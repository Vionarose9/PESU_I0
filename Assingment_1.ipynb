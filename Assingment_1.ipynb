{
  "nbformat": 4,
  "nbformat_minor": 0,
  "metadata": {
    "colab": {
      "provenance": [],
      "mount_file_id": "1dTtdcR5j3IxyBa0zTeJdHoKxZ_RSTC01",
      "authorship_tag": "ABX9TyMut2kI7X8w9Iwff5qC5YpZ",
      "include_colab_link": true
    },
    "kernelspec": {
      "name": "python3",
      "display_name": "Python 3"
    },
    "language_info": {
      "name": "python"
    }
  },
  "cells": [
    {
      "cell_type": "markdown",
      "metadata": {
        "id": "view-in-github",
        "colab_type": "text"
      },
      "source": [
        "<a href=\"https://colab.research.google.com/github/Vionarose9/PESU_I0/blob/main/Assingment_1.ipynb\" target=\"_parent\"><img src=\"https://colab.research.google.com/assets/colab-badge.svg\" alt=\"Open In Colab\"/></a>"
      ]
    },
    {
      "cell_type": "markdown",
      "source": [
        "# **Data Preprocessing**"
      ],
      "metadata": {
        "id": "io2O0ltnKMD1"
      }
    },
    {
      "cell_type": "code",
      "source": [
        "from google.colab import drive\n",
        "drive.mount('/content/drive')"
      ],
      "metadata": {
        "id": "NL2neanjwWZ9"
      },
      "execution_count": null,
      "outputs": []
    },
    {
      "cell_type": "code",
      "execution_count": null,
      "metadata": {
        "id": "8PUNe3otATJh"
      },
      "outputs": [],
      "source": [
        "import numpy as np\n",
        "import matplotlib.pyplot as plt\n",
        "import pandas as pd"
      ]
    },
    {
      "cell_type": "code",
      "source": [
        "dataset = pd.read_csv('SwedishMotorInsurance.csv')\n",
        "dataset\n",
        "X = dataset.iloc[:, :-1].values\n",
        "y = dataset.iloc[:, -1].values"
      ],
      "metadata": {
        "id": "tbbdmdIfD3a8"
      },
      "execution_count": null,
      "outputs": []
    },
    {
      "cell_type": "code",
      "source": [
        "dataset"
      ],
      "metadata": {
        "colab": {
          "base_uri": "https://localhost:8080/",
          "height": 424
        },
        "id": "PncHK7-QEKj9",
        "outputId": "f0c11ebc-80fd-421e-b11e-26a7facd75e0"
      },
      "execution_count": null,
      "outputs": [
        {
          "output_type": "execute_result",
          "data": {
            "text/plain": [
              "      Kilometres  Zone  Bonus  Make  Insured  Claims  Payment\n",
              "0              1     1      1     1   455.13     108   392491\n",
              "1              1     1      1     2    69.17      19    46221\n",
              "2              1     1      1     3    72.88      13    15694\n",
              "3              1     1      1     4  1292.39     124   422201\n",
              "4              1     1      1     5   191.01      40   119373\n",
              "...          ...   ...    ...   ...      ...     ...      ...\n",
              "2177           5     7      7     5     8.74       0        0\n",
              "2178           5     7      7     6    16.61       0        0\n",
              "2179           5     7      7     7     2.83       1      966\n",
              "2180           5     7      7     8    13.06       0        0\n",
              "2181           5     7      7     9   384.87      16   112252\n",
              "\n",
              "[2182 rows x 7 columns]"
            ],
            "text/html": [
              "\n",
              "  <div id=\"df-4193a690-1308-4009-9c3d-7814bedc8a63\" class=\"colab-df-container\">\n",
              "    <div>\n",
              "<style scoped>\n",
              "    .dataframe tbody tr th:only-of-type {\n",
              "        vertical-align: middle;\n",
              "    }\n",
              "\n",
              "    .dataframe tbody tr th {\n",
              "        vertical-align: top;\n",
              "    }\n",
              "\n",
              "    .dataframe thead th {\n",
              "        text-align: right;\n",
              "    }\n",
              "</style>\n",
              "<table border=\"1\" class=\"dataframe\">\n",
              "  <thead>\n",
              "    <tr style=\"text-align: right;\">\n",
              "      <th></th>\n",
              "      <th>Kilometres</th>\n",
              "      <th>Zone</th>\n",
              "      <th>Bonus</th>\n",
              "      <th>Make</th>\n",
              "      <th>Insured</th>\n",
              "      <th>Claims</th>\n",
              "      <th>Payment</th>\n",
              "    </tr>\n",
              "  </thead>\n",
              "  <tbody>\n",
              "    <tr>\n",
              "      <th>0</th>\n",
              "      <td>1</td>\n",
              "      <td>1</td>\n",
              "      <td>1</td>\n",
              "      <td>1</td>\n",
              "      <td>455.13</td>\n",
              "      <td>108</td>\n",
              "      <td>392491</td>\n",
              "    </tr>\n",
              "    <tr>\n",
              "      <th>1</th>\n",
              "      <td>1</td>\n",
              "      <td>1</td>\n",
              "      <td>1</td>\n",
              "      <td>2</td>\n",
              "      <td>69.17</td>\n",
              "      <td>19</td>\n",
              "      <td>46221</td>\n",
              "    </tr>\n",
              "    <tr>\n",
              "      <th>2</th>\n",
              "      <td>1</td>\n",
              "      <td>1</td>\n",
              "      <td>1</td>\n",
              "      <td>3</td>\n",
              "      <td>72.88</td>\n",
              "      <td>13</td>\n",
              "      <td>15694</td>\n",
              "    </tr>\n",
              "    <tr>\n",
              "      <th>3</th>\n",
              "      <td>1</td>\n",
              "      <td>1</td>\n",
              "      <td>1</td>\n",
              "      <td>4</td>\n",
              "      <td>1292.39</td>\n",
              "      <td>124</td>\n",
              "      <td>422201</td>\n",
              "    </tr>\n",
              "    <tr>\n",
              "      <th>4</th>\n",
              "      <td>1</td>\n",
              "      <td>1</td>\n",
              "      <td>1</td>\n",
              "      <td>5</td>\n",
              "      <td>191.01</td>\n",
              "      <td>40</td>\n",
              "      <td>119373</td>\n",
              "    </tr>\n",
              "    <tr>\n",
              "      <th>...</th>\n",
              "      <td>...</td>\n",
              "      <td>...</td>\n",
              "      <td>...</td>\n",
              "      <td>...</td>\n",
              "      <td>...</td>\n",
              "      <td>...</td>\n",
              "      <td>...</td>\n",
              "    </tr>\n",
              "    <tr>\n",
              "      <th>2177</th>\n",
              "      <td>5</td>\n",
              "      <td>7</td>\n",
              "      <td>7</td>\n",
              "      <td>5</td>\n",
              "      <td>8.74</td>\n",
              "      <td>0</td>\n",
              "      <td>0</td>\n",
              "    </tr>\n",
              "    <tr>\n",
              "      <th>2178</th>\n",
              "      <td>5</td>\n",
              "      <td>7</td>\n",
              "      <td>7</td>\n",
              "      <td>6</td>\n",
              "      <td>16.61</td>\n",
              "      <td>0</td>\n",
              "      <td>0</td>\n",
              "    </tr>\n",
              "    <tr>\n",
              "      <th>2179</th>\n",
              "      <td>5</td>\n",
              "      <td>7</td>\n",
              "      <td>7</td>\n",
              "      <td>7</td>\n",
              "      <td>2.83</td>\n",
              "      <td>1</td>\n",
              "      <td>966</td>\n",
              "    </tr>\n",
              "    <tr>\n",
              "      <th>2180</th>\n",
              "      <td>5</td>\n",
              "      <td>7</td>\n",
              "      <td>7</td>\n",
              "      <td>8</td>\n",
              "      <td>13.06</td>\n",
              "      <td>0</td>\n",
              "      <td>0</td>\n",
              "    </tr>\n",
              "    <tr>\n",
              "      <th>2181</th>\n",
              "      <td>5</td>\n",
              "      <td>7</td>\n",
              "      <td>7</td>\n",
              "      <td>9</td>\n",
              "      <td>384.87</td>\n",
              "      <td>16</td>\n",
              "      <td>112252</td>\n",
              "    </tr>\n",
              "  </tbody>\n",
              "</table>\n",
              "<p>2182 rows × 7 columns</p>\n",
              "</div>\n",
              "    <div class=\"colab-df-buttons\">\n",
              "\n",
              "  <div class=\"colab-df-container\">\n",
              "    <button class=\"colab-df-convert\" onclick=\"convertToInteractive('df-4193a690-1308-4009-9c3d-7814bedc8a63')\"\n",
              "            title=\"Convert this dataframe to an interactive table.\"\n",
              "            style=\"display:none;\">\n",
              "\n",
              "  <svg xmlns=\"http://www.w3.org/2000/svg\" height=\"24px\" viewBox=\"0 -960 960 960\">\n",
              "    <path d=\"M120-120v-720h720v720H120Zm60-500h600v-160H180v160Zm220 220h160v-160H400v160Zm0 220h160v-160H400v160ZM180-400h160v-160H180v160Zm440 0h160v-160H620v160ZM180-180h160v-160H180v160Zm440 0h160v-160H620v160Z\"/>\n",
              "  </svg>\n",
              "    </button>\n",
              "\n",
              "  <style>\n",
              "    .colab-df-container {\n",
              "      display:flex;\n",
              "      gap: 12px;\n",
              "    }\n",
              "\n",
              "    .colab-df-convert {\n",
              "      background-color: #E8F0FE;\n",
              "      border: none;\n",
              "      border-radius: 50%;\n",
              "      cursor: pointer;\n",
              "      display: none;\n",
              "      fill: #1967D2;\n",
              "      height: 32px;\n",
              "      padding: 0 0 0 0;\n",
              "      width: 32px;\n",
              "    }\n",
              "\n",
              "    .colab-df-convert:hover {\n",
              "      background-color: #E2EBFA;\n",
              "      box-shadow: 0px 1px 2px rgba(60, 64, 67, 0.3), 0px 1px 3px 1px rgba(60, 64, 67, 0.15);\n",
              "      fill: #174EA6;\n",
              "    }\n",
              "\n",
              "    .colab-df-buttons div {\n",
              "      margin-bottom: 4px;\n",
              "    }\n",
              "\n",
              "    [theme=dark] .colab-df-convert {\n",
              "      background-color: #3B4455;\n",
              "      fill: #D2E3FC;\n",
              "    }\n",
              "\n",
              "    [theme=dark] .colab-df-convert:hover {\n",
              "      background-color: #434B5C;\n",
              "      box-shadow: 0px 1px 3px 1px rgba(0, 0, 0, 0.15);\n",
              "      filter: drop-shadow(0px 1px 2px rgba(0, 0, 0, 0.3));\n",
              "      fill: #FFFFFF;\n",
              "    }\n",
              "  </style>\n",
              "\n",
              "    <script>\n",
              "      const buttonEl =\n",
              "        document.querySelector('#df-4193a690-1308-4009-9c3d-7814bedc8a63 button.colab-df-convert');\n",
              "      buttonEl.style.display =\n",
              "        google.colab.kernel.accessAllowed ? 'block' : 'none';\n",
              "\n",
              "      async function convertToInteractive(key) {\n",
              "        const element = document.querySelector('#df-4193a690-1308-4009-9c3d-7814bedc8a63');\n",
              "        const dataTable =\n",
              "          await google.colab.kernel.invokeFunction('convertToInteractive',\n",
              "                                                    [key], {});\n",
              "        if (!dataTable) return;\n",
              "\n",
              "        const docLinkHtml = 'Like what you see? Visit the ' +\n",
              "          '<a target=\"_blank\" href=https://colab.research.google.com/notebooks/data_table.ipynb>data table notebook</a>'\n",
              "          + ' to learn more about interactive tables.';\n",
              "        element.innerHTML = '';\n",
              "        dataTable['output_type'] = 'display_data';\n",
              "        await google.colab.output.renderOutput(dataTable, element);\n",
              "        const docLink = document.createElement('div');\n",
              "        docLink.innerHTML = docLinkHtml;\n",
              "        element.appendChild(docLink);\n",
              "      }\n",
              "    </script>\n",
              "  </div>\n",
              "\n",
              "\n",
              "<div id=\"df-c8f59c89-c882-42fc-952c-997b8af41f27\">\n",
              "  <button class=\"colab-df-quickchart\" onclick=\"quickchart('df-c8f59c89-c882-42fc-952c-997b8af41f27')\"\n",
              "            title=\"Suggest charts.\"\n",
              "            style=\"display:none;\">\n",
              "\n",
              "<svg xmlns=\"http://www.w3.org/2000/svg\" height=\"24px\"viewBox=\"0 0 24 24\"\n",
              "     width=\"24px\">\n",
              "    <g>\n",
              "        <path d=\"M19 3H5c-1.1 0-2 .9-2 2v14c0 1.1.9 2 2 2h14c1.1 0 2-.9 2-2V5c0-1.1-.9-2-2-2zM9 17H7v-7h2v7zm4 0h-2V7h2v10zm4 0h-2v-4h2v4z\"/>\n",
              "    </g>\n",
              "</svg>\n",
              "  </button>\n",
              "\n",
              "<style>\n",
              "  .colab-df-quickchart {\n",
              "      --bg-color: #E8F0FE;\n",
              "      --fill-color: #1967D2;\n",
              "      --hover-bg-color: #E2EBFA;\n",
              "      --hover-fill-color: #174EA6;\n",
              "      --disabled-fill-color: #AAA;\n",
              "      --disabled-bg-color: #DDD;\n",
              "  }\n",
              "\n",
              "  [theme=dark] .colab-df-quickchart {\n",
              "      --bg-color: #3B4455;\n",
              "      --fill-color: #D2E3FC;\n",
              "      --hover-bg-color: #434B5C;\n",
              "      --hover-fill-color: #FFFFFF;\n",
              "      --disabled-bg-color: #3B4455;\n",
              "      --disabled-fill-color: #666;\n",
              "  }\n",
              "\n",
              "  .colab-df-quickchart {\n",
              "    background-color: var(--bg-color);\n",
              "    border: none;\n",
              "    border-radius: 50%;\n",
              "    cursor: pointer;\n",
              "    display: none;\n",
              "    fill: var(--fill-color);\n",
              "    height: 32px;\n",
              "    padding: 0;\n",
              "    width: 32px;\n",
              "  }\n",
              "\n",
              "  .colab-df-quickchart:hover {\n",
              "    background-color: var(--hover-bg-color);\n",
              "    box-shadow: 0 1px 2px rgba(60, 64, 67, 0.3), 0 1px 3px 1px rgba(60, 64, 67, 0.15);\n",
              "    fill: var(--button-hover-fill-color);\n",
              "  }\n",
              "\n",
              "  .colab-df-quickchart-complete:disabled,\n",
              "  .colab-df-quickchart-complete:disabled:hover {\n",
              "    background-color: var(--disabled-bg-color);\n",
              "    fill: var(--disabled-fill-color);\n",
              "    box-shadow: none;\n",
              "  }\n",
              "\n",
              "  .colab-df-spinner {\n",
              "    border: 2px solid var(--fill-color);\n",
              "    border-color: transparent;\n",
              "    border-bottom-color: var(--fill-color);\n",
              "    animation:\n",
              "      spin 1s steps(1) infinite;\n",
              "  }\n",
              "\n",
              "  @keyframes spin {\n",
              "    0% {\n",
              "      border-color: transparent;\n",
              "      border-bottom-color: var(--fill-color);\n",
              "      border-left-color: var(--fill-color);\n",
              "    }\n",
              "    20% {\n",
              "      border-color: transparent;\n",
              "      border-left-color: var(--fill-color);\n",
              "      border-top-color: var(--fill-color);\n",
              "    }\n",
              "    30% {\n",
              "      border-color: transparent;\n",
              "      border-left-color: var(--fill-color);\n",
              "      border-top-color: var(--fill-color);\n",
              "      border-right-color: var(--fill-color);\n",
              "    }\n",
              "    40% {\n",
              "      border-color: transparent;\n",
              "      border-right-color: var(--fill-color);\n",
              "      border-top-color: var(--fill-color);\n",
              "    }\n",
              "    60% {\n",
              "      border-color: transparent;\n",
              "      border-right-color: var(--fill-color);\n",
              "    }\n",
              "    80% {\n",
              "      border-color: transparent;\n",
              "      border-right-color: var(--fill-color);\n",
              "      border-bottom-color: var(--fill-color);\n",
              "    }\n",
              "    90% {\n",
              "      border-color: transparent;\n",
              "      border-bottom-color: var(--fill-color);\n",
              "    }\n",
              "  }\n",
              "</style>\n",
              "\n",
              "  <script>\n",
              "    async function quickchart(key) {\n",
              "      const quickchartButtonEl =\n",
              "        document.querySelector('#' + key + ' button');\n",
              "      quickchartButtonEl.disabled = true;  // To prevent multiple clicks.\n",
              "      quickchartButtonEl.classList.add('colab-df-spinner');\n",
              "      try {\n",
              "        const charts = await google.colab.kernel.invokeFunction(\n",
              "            'suggestCharts', [key], {});\n",
              "      } catch (error) {\n",
              "        console.error('Error during call to suggestCharts:', error);\n",
              "      }\n",
              "      quickchartButtonEl.classList.remove('colab-df-spinner');\n",
              "      quickchartButtonEl.classList.add('colab-df-quickchart-complete');\n",
              "    }\n",
              "    (() => {\n",
              "      let quickchartButtonEl =\n",
              "        document.querySelector('#df-c8f59c89-c882-42fc-952c-997b8af41f27 button');\n",
              "      quickchartButtonEl.style.display =\n",
              "        google.colab.kernel.accessAllowed ? 'block' : 'none';\n",
              "    })();\n",
              "  </script>\n",
              "</div>\n",
              "    </div>\n",
              "  </div>\n"
            ]
          },
          "metadata": {},
          "execution_count": 5
        }
      ]
    },
    {
      "cell_type": "code",
      "source": [
        "X"
      ],
      "metadata": {
        "colab": {
          "base_uri": "https://localhost:8080/"
        },
        "id": "6lh0Pje2EWp9",
        "outputId": "0729a852-7697-4afd-fd55-6bda80727226"
      },
      "execution_count": null,
      "outputs": [
        {
          "output_type": "execute_result",
          "data": {
            "text/plain": [
              "array([[  1.  ,   1.  ,   1.  ,   1.  , 455.13, 108.  ],\n",
              "       [  1.  ,   1.  ,   1.  ,   2.  ,  69.17,  19.  ],\n",
              "       [  1.  ,   1.  ,   1.  ,   3.  ,  72.88,  13.  ],\n",
              "       ...,\n",
              "       [  5.  ,   7.  ,   7.  ,   7.  ,   2.83,   1.  ],\n",
              "       [  5.  ,   7.  ,   7.  ,   8.  ,  13.06,   0.  ],\n",
              "       [  5.  ,   7.  ,   7.  ,   9.  , 384.87,  16.  ]])"
            ]
          },
          "metadata": {},
          "execution_count": 5
        }
      ]
    },
    {
      "cell_type": "code",
      "source": [
        "y"
      ],
      "metadata": {
        "colab": {
          "base_uri": "https://localhost:8080/"
        },
        "id": "oteCpyczEYPF",
        "outputId": "c45a0348-7a92-4aa6-cc65-b979a4502747"
      },
      "execution_count": null,
      "outputs": [
        {
          "output_type": "execute_result",
          "data": {
            "text/plain": [
              "array([392491,  46221,  15694, ...,    966,      0, 112252])"
            ]
          },
          "metadata": {},
          "execution_count": 6
        }
      ]
    },
    {
      "cell_type": "code",
      "source": [
        "from sklearn.model_selection import train_test_split\n",
        "X_train, X_test, y_train, y_test = train_test_split(X, y, test_size = 0.2, random_state = 1)"
      ],
      "metadata": {
        "id": "1puw25zcFCwv"
      },
      "execution_count": null,
      "outputs": []
    },
    {
      "cell_type": "code",
      "source": [
        "print(X_train)\n"
      ],
      "metadata": {
        "colab": {
          "base_uri": "https://localhost:8080/"
        },
        "id": "2Af7LsFSFMON",
        "outputId": "847d9181-8aec-4651-ef47-7a4c1565960f"
      },
      "execution_count": null,
      "outputs": [
        {
          "output_type": "stream",
          "name": "stdout",
          "text": [
            "[[3.00000e+00 7.00000e+00 4.00000e+00 3.00000e+00 9.60000e-01 0.00000e+00]\n",
            " [5.00000e+00 3.00000e+00 7.00000e+00 6.00000e+00 5.23390e+02 1.40000e+01]\n",
            " [1.00000e+00 7.00000e+00 3.00000e+00 4.00000e+00 4.61800e+01 1.00000e+00]\n",
            " ...\n",
            " [3.00000e+00 4.00000e+00 4.00000e+00 1.00000e+00 9.30380e+02 5.30000e+01]\n",
            " [1.00000e+00 4.00000e+00 6.00000e+00 2.00000e+00 2.98730e+02 5.00000e+00]\n",
            " [3.00000e+00 3.00000e+00 7.00000e+00 2.00000e+00 1.68152e+03 7.10000e+01]]\n"
          ]
        }
      ]
    },
    {
      "cell_type": "code",
      "source": [
        "print(y_train)\n"
      ],
      "metadata": {
        "colab": {
          "base_uri": "https://localhost:8080/"
        },
        "id": "0cJFHPxFFPlc",
        "outputId": "aa30b720-a0ee-4b78-81b1-bf577a047c75"
      },
      "execution_count": null,
      "outputs": [
        {
          "output_type": "stream",
          "name": "stdout",
          "text": [
            "[     0  62013    756 ... 294693  16182 377529]\n"
          ]
        }
      ]
    },
    {
      "cell_type": "code",
      "source": [
        "print(X_test)\n"
      ],
      "metadata": {
        "colab": {
          "base_uri": "https://localhost:8080/"
        },
        "id": "z0o9HisJFXRl",
        "outputId": "d1311f1d-207f-40f3-ed56-5a24cd685d3a"
      },
      "execution_count": null,
      "outputs": [
        {
          "output_type": "stream",
          "name": "stdout",
          "text": [
            "[[ 5.    2.    5.    5.   25.1   1.  ]\n",
            " [ 5.    7.    5.    5.    0.7   0.  ]\n",
            " [ 4.    7.    3.    2.    1.61  0.  ]\n",
            " ...\n",
            " [ 4.    7.    5.    3.    0.2   0.  ]\n",
            " [ 1.    5.    6.    3.   40.03  1.  ]\n",
            " [ 5.    3.    3.    2.   31.55  3.  ]]\n"
          ]
        }
      ]
    },
    {
      "cell_type": "code",
      "source": [
        "from sklearn.preprocessing import StandardScaler\n",
        "sc=StandardScaler()\n",
        "X_train = sc.fit_transform(X_train)\n",
        "X_test = sc.transform(X_test)\n"
      ],
      "metadata": {
        "id": "DTMdz76BFZKJ"
      },
      "execution_count": null,
      "outputs": []
    },
    {
      "cell_type": "code",
      "source": [
        "from sklearn.preprocessing import StandardScaler\n",
        "sc = StandardScaler()\n",
        "X_train = sc.fit_transform(X_train)\n",
        "X_test = sc.transform(X_test)"
      ],
      "metadata": {
        "id": "9xg4V8oQFbki"
      },
      "execution_count": null,
      "outputs": []
    },
    {
      "cell_type": "markdown",
      "source": [
        "# **Data Visualization**"
      ],
      "metadata": {
        "id": "44IFBbjmOMEC"
      }
    },
    {
      "cell_type": "code",
      "source": [
        "print(dataset.head())"
      ],
      "metadata": {
        "colab": {
          "base_uri": "https://localhost:8080/"
        },
        "id": "DaPx7-P4O6wV",
        "outputId": "548e0d8c-9063-44dc-91c5-2bd32bfec844"
      },
      "execution_count": null,
      "outputs": [
        {
          "output_type": "stream",
          "name": "stdout",
          "text": [
            "   Kilometres  Zone  Bonus  Make  Insured  Claims  Payment\n",
            "0           1     1      1     1   455.13     108   392491\n",
            "1           1     1      1     2    69.17      19    46221\n",
            "2           1     1      1     3    72.88      13    15694\n",
            "3           1     1      1     4  1292.39     124   422201\n",
            "4           1     1      1     5   191.01      40   119373\n"
          ]
        }
      ]
    },
    {
      "cell_type": "code",
      "source": [
        "import matplotlib.pyplot as plt\n",
        "plt.scatter(dataset['Kilometres'],dataset['Payment'])\n",
        "\n",
        "# add labels and title\n",
        "plt.xlabel('Kilometres')\n",
        "plt.ylabel('Payment')\n",
        "plt.legend()\n",
        "plt.show()"
      ],
      "metadata": {
        "colab": {
          "base_uri": "https://localhost:8080/",
          "height": 502
        },
        "id": "f5vNJFhyOTrg",
        "outputId": "f7dd195f-bd30-4bc8-fcc6-bf5fdbf62ae7"
      },
      "execution_count": null,
      "outputs": [
        {
          "output_type": "stream",
          "name": "stderr",
          "text": [
            "WARNING:matplotlib.legend:No artists with labels found to put in legend.  Note that artists whose label start with an underscore are ignored when legend() is called with no argument.\n"
          ]
        },
        {
          "output_type": "display_data",
          "data": {
            "text/plain": [
              "<Figure size 640x480 with 1 Axes>"
            ],
            "image/png": "[encoded data removed]"
          },
          "metadata": {}
        }
      ]
    },
    {
      "cell_type": "code",
      "source": [
        "import matplotlib.pyplot as plt\n",
        "plt.scatter(dataset['Zone'],dataset['Payment'])\n",
        "\n",
        "# add labels and title\n",
        "plt.xlabel('Zone')\n",
        "plt.ylabel('Payment')\n",
        "plt.legend()\n",
        "plt.show()"
      ],
      "metadata": {
        "colab": {
          "base_uri": "https://localhost:8080/",
          "height": 502
        },
        "id": "EX7PHXSMP99-",
        "outputId": "f2dc7c21-0302-4b22-cd9f-95d940a69cda"
      },
      "execution_count": null,
      "outputs": [
        {
          "output_type": "stream",
          "name": "stderr",
          "text": [
            "WARNING:matplotlib.legend:No artists with labels found to put in legend.  Note that artists whose label start with an underscore are ignored when legend() is called with no argument.\n"
          ]
        },
        {
          "output_type": "display_data",
          "data": {
            "text/plain": [
              "<Figure size 640x480 with 1 Axes>"
            ],
            "image/png": "[encoded data removed]"
          },
          "metadata": {}
        }
      ]
    },
    {
      "cell_type": "code",
      "source": [
        "import matplotlib.pyplot as plt\n",
        "plt.scatter(dataset['Bonus'],dataset['Payment'])\n",
        "\n",
        "# add labels and title\n",
        "plt.xlabel('Bonus')\n",
        "plt.ylabel('Payment')\n",
        "plt.legend()\n",
        "plt.show()"
      ],
      "metadata": {
        "colab": {
          "base_uri": "https://localhost:8080/",
          "height": 502
        },
        "id": "7wdWK9JIQJw0",
        "outputId": "b0d7eff8-92e1-4771-d7fb-a10ca068339e"
      },
      "execution_count": null,
      "outputs": [
        {
          "output_type": "stream",
          "name": "stderr",
          "text": [
            "WARNING:matplotlib.legend:No artists with labels found to put in legend.  Note that artists whose label start with an underscore are ignored when legend() is called with no argument.\n"
          ]
        },
        {
          "output_type": "display_data",
          "data": {
            "text/plain": [
              "<Figure size 640x480 with 1 Axes>"
            ],
            "image/png": "[encoded data removed]"
          },
          "metadata": {}
        }
      ]
    },
    {
      "cell_type": "code",
      "source": [
        "import matplotlib.pyplot as plt\n",
        "plt.scatter(dataset['Make'],dataset['Payment'])\n",
        "\n",
        "# add labels and title\n",
        "plt.xlabel('Make')\n",
        "plt.ylabel('Payment')\n",
        "plt.legend()\n",
        "plt.show()"
      ],
      "metadata": {
        "colab": {
          "base_uri": "https://localhost:8080/",
          "height": 502
        },
        "id": "LiyvhnN8QPnt",
        "outputId": "d92156aa-e88b-4007-f8f0-72521240b8cc"
      },
      "execution_count": null,
      "outputs": [
        {
          "output_type": "stream",
          "name": "stderr",
          "text": [
            "WARNING:matplotlib.legend:No artists with labels found to put in legend.  Note that artists whose label start with an underscore are ignored when legend() is called with no argument.\n"
          ]
        },
        {
          "output_type": "display_data",
          "data": {
            "text/plain": [
              "<Figure size 640x480 with 1 Axes>"
            ],
            "image/png": "[encoded data removed]"
          },
          "metadata": {}
        }
      ]
    },
    {
      "cell_type": "code",
      "source": [
        "import matplotlib.pyplot as plt\n",
        "plt.scatter(dataset['Insured'],dataset['Payment'])\n",
        "\n",
        "# add labels and title\n",
        "plt.xlabel('Insured')\n",
        "plt.ylabel('Payment')\n",
        "plt.legend()\n",
        "plt.show()"
      ],
      "metadata": {
        "colab": {
          "base_uri": "https://localhost:8080/",
          "height": 502
        },
        "id": "sjR_EcNdQUSX",
        "outputId": "4a2289c4-6583-4a60-af02-f7f7da9b698d"
      },
      "execution_count": null,
      "outputs": [
        {
          "output_type": "stream",
          "name": "stderr",
          "text": [
            "WARNING:matplotlib.legend:No artists with labels found to put in legend.  Note that artists whose label start with an underscore are ignored when legend() is called with no argument.\n"
          ]
        },
        {
          "output_type": "display_data",
          "data": {
            "text/plain": [
              "<Figure size 640x480 with 1 Axes>"
            ],
            "image/png": "[encoded data removed]"
          },
          "metadata": {}
        }
      ]
    },
    {
      "cell_type": "markdown",
      "source": [
        "# **Linear Regression**"
      ],
      "metadata": {
        "id": "KbfT6HSaKozW"
      }
    },
    {
      "cell_type": "code",
      "source": [
        "from sklearn.linear_model import LinearRegression\n",
        "lin_reg = LinearRegression()\n",
        "lin_reg.fit(X_train, y_train)\n"
      ],
      "metadata": {
        "id": "ZmOCtkQ7Fsvf",
        "colab": {
          "base_uri": "https://localhost:8080/",
          "height": 75
        },
        "outputId": "5871c9fe-340a-4750-e657-910885677019"
      },
      "execution_count": null,
      "outputs": [
        {
          "output_type": "execute_result",
          "data": {
            "text/plain": [
              "LinearRegression()"
            ],
            "text/html": [
              "<style>#sk-container-id-1 {color: black;background-color: white;}#sk-container-id-1 pre{padding: 0;}#sk-container-id-1 div.sk-toggleable {background-color: white;}#sk-container-id-1 label.sk-toggleable__label {cursor: pointer;display: block;width: 100%;margin-bottom: 0;padding: 0.3em;box-sizing: border-box;text-align: center;}#sk-container-id-1 label.sk-toggleable__label-arrow:before {content: \"▸\";float: left;margin-right: 0.25em;color: #696969;}#sk-container-id-1 label.sk-toggleable__label-arrow:hover:before {color: black;}#sk-container-id-1 div.sk-estimator:hover label.sk-toggleable__label-arrow:before {color: black;}#sk-container-id-1 div.sk-toggleable__content {max-height: 0;max-width: 0;overflow: hidden;text-align: left;background-color: #f0f8ff;}#sk-container-id-1 div.sk-toggleable__content pre {margin: 0.2em;color: black;border-radius: 0.25em;background-color: #f0f8ff;}#sk-container-id-1 input.sk-toggleable__control:checked~div.sk-toggleable__content {max-height: 200px;max-width: 100%;overflow: auto;}#sk-container-id-1 input.sk-toggleable__control:checked~label.sk-toggleable__label-arrow:before {content: \"▾\";}#sk-container-id-1 div.sk-estimator input.sk-toggleable__control:checked~label.sk-toggleable__label {background-color: #d4ebff;}#sk-container-id-1 div.sk-label input.sk-toggleable__control:checked~label.sk-toggleable__label {background-color: #d4ebff;}#sk-container-id-1 input.sk-hidden--visually {border: 0;clip: rect(1px 1px 1px 1px);clip: rect(1px, 1px, 1px, 1px);height: 1px;margin: -1px;overflow: hidden;padding: 0;position: absolute;width: 1px;}#sk-container-id-1 div.sk-estimator {font-family: monospace;background-color: #f0f8ff;border: 1px dotted black;border-radius: 0.25em;box-sizing: border-box;margin-bottom: 0.5em;}#sk-container-id-1 div.sk-estimator:hover {background-color: #d4ebff;}#sk-container-id-1 div.sk-parallel-item::after {content: \"\";width: 100%;border-bottom: 1px solid gray;flex-grow: 1;}#sk-container-id-1 div.sk-label:hover label.sk-toggleable__label {background-color: #d4ebff;}#sk-container-id-1 div.sk-serial::before {content: \"\";position: absolute;border-left: 1px solid gray;box-sizing: border-box;top: 0;bottom: 0;left: 50%;z-index: 0;}#sk-container-id-1 div.sk-serial {display: flex;flex-direction: column;align-items: center;background-color: white;padding-right: 0.2em;padding-left: 0.2em;position: relative;}#sk-container-id-1 div.sk-item {position: relative;z-index: 1;}#sk-container-id-1 div.sk-parallel {display: flex;align-items: stretch;justify-content: center;background-color: white;position: relative;}#sk-container-id-1 div.sk-item::before, #sk-container-id-1 div.sk-parallel-item::before {content: \"\";position: absolute;border-left: 1px solid gray;box-sizing: border-box;top: 0;bottom: 0;left: 50%;z-index: -1;}#sk-container-id-1 div.sk-parallel-item {display: flex;flex-direction: column;z-index: 1;position: relative;background-color: white;}#sk-container-id-1 div.sk-parallel-item:first-child::after {align-self: flex-end;width: 50%;}#sk-container-id-1 div.sk-parallel-item:last-child::after {align-self: flex-start;width: 50%;}#sk-container-id-1 div.sk-parallel-item:only-child::after {width: 0;}#sk-container-id-1 div.sk-dashed-wrapped {border: 1px dashed gray;margin: 0 0.4em 0.5em 0.4em;box-sizing: border-box;padding-bottom: 0.4em;background-color: white;}#sk-container-id-1 div.sk-label label {font-family: monospace;font-weight: bold;display: inline-block;line-height: 1.2em;}#sk-container-id-1 div.sk-label-container {text-align: center;}#sk-container-id-1 div.sk-container {/* jupyter's `normalize.less` sets `[hidden] { display: none; }` but bootstrap.min.css set `[hidden] { display: none !important; }` so we also need the `!important` here to be able to override the default hidden behavior on the sphinx rendered scikit-learn.org. See: https://github.com/scikit-learn/scikit-learn/issues/21755 */display: inline-block !important;position: relative;}#sk-container-id-1 div.sk-text-repr-fallback {display: none;}</style><div id=\"sk-container-id-1\" class=\"sk-top-container\"><div class=\"sk-text-repr-fallback\"><pre>LinearRegression()</pre><b>In a Jupyter environment, please rerun this cell to show the HTML representation or trust the notebook. <br />On GitHub, the HTML representation is unable to render, please try loading this page with nbviewer.org.</b></div><div class=\"sk-container\" hidden><div class=\"sk-item\"><div class=\"sk-estimator sk-toggleable\"><input class=\"sk-toggleable__control sk-hidden--visually\" id=\"sk-estimator-id-1\" type=\"checkbox\" checked><label for=\"sk-estimator-id-1\" class=\"sk-toggleable__label sk-toggleable__label-arrow\">LinearRegression</label><div class=\"sk-toggleable__content\"><pre>LinearRegression()</pre></div></div></div></div></div>"
            ]
          },
          "metadata": {},
          "execution_count": 15
        }
      ]
    },
    {
      "cell_type": "code",
      "source": [
        "y_pred=lin_reg.predict(X_test)"
      ],
      "metadata": {
        "id": "CaVuhlgJ778Z"
      },
      "execution_count": null,
      "outputs": []
    },
    {
      "cell_type": "code",
      "source": [
        "lin_reg.score(X_test,y_test)"
      ],
      "metadata": {
        "colab": {
          "base_uri": "https://localhost:8080/"
        },
        "id": "RI1mou8s8POD",
        "outputId": "7797c0c3-cb60-45f4-a8c6-a509049b63df"
      },
      "execution_count": null,
      "outputs": [
        {
          "output_type": "execute_result",
          "data": {
            "text/plain": [
              "0.993135695893281"
            ]
          },
          "metadata": {},
          "execution_count": 19
        }
      ]
    },
    {
      "cell_type": "markdown",
      "source": [
        "# **Polynomial Regression**"
      ],
      "metadata": {
        "id": "qtB-NpI1KyjO"
      }
    },
    {
      "cell_type": "code",
      "source": [
        "from sklearn.preprocessing import PolynomialFeatures\n",
        "poly_reg = PolynomialFeatures(degree = 4)\n",
        "X_train = sc.fit_transform(X_train)\n",
        "X_test = sc.transform(X_test)\n",
        "X_poly = poly_reg.fit_transform(X_test)\n",
        "lin_reg_2 = LinearRegression()\n",
        "lin_reg_2.fit(X_poly, y_test)\n",
        "lin_reg_2.coef_\n"
      ],
      "metadata": {
        "id": "QxkgXB6XEQhr",
        "colab": {
          "base_uri": "https://localhost:8080/"
        },
        "outputId": "15294ff7-37f4-4b21-b37c-65b58da47fca"
      },
      "execution_count": null,
      "outputs": [
        {
          "output_type": "execute_result",
          "data": {
            "text/plain": [
              "array([-7.77219685e-04,  9.52064447e+04,  4.00505265e+04, -3.49837520e+03,\n",
              "       -4.62383125e+04,  6.68293323e+05,  1.20869091e+06,  2.53545661e+04,\n",
              "        1.43403084e+04,  1.38053008e+04, -1.91326278e+04, -8.31161153e+05,\n",
              "        9.51128934e+05,  3.45291317e+04, -6.77982729e+04,  3.72561799e+04,\n",
              "        1.29986200e+06, -1.15235505e+06, -1.05561998e+05,  3.16398120e+04,\n",
              "       -2.16442320e+05,  3.43590482e+04, -7.94155417e+04, -3.02627474e+05,\n",
              "        4.12339842e+04, -2.76926558e+06,  4.73194811e+06, -1.28722914e+06,\n",
              "       -4.55672293e+04,  1.74050131e+04,  1.52870038e+04, -1.49349428e+04,\n",
              "       -5.69626245e+05,  5.60420728e+05,  1.12569716e+04, -4.43550931e+04,\n",
              "       -1.16445963e+04,  8.24196067e+05, -6.48192984e+05,  4.28841532e+02,\n",
              "       -3.73916408e+03,  8.76219689e+05, -5.81322177e+05, -2.02481375e+04,\n",
              "       -4.84832490e+04,  1.75613667e+04, -7.65905459e+06,  6.48322516e+06,\n",
              "       -8.08987117e+05, -4.09435002e+04, -6.01396191e+04, -1.88548953e+04,\n",
              "        1.15199865e+06, -5.63221915e+05,  2.37530419e+04,  1.98275737e+04,\n",
              "       -9.64199207e+04, -1.11473969e+05,  2.41875348e+04, -1.58449602e+05,\n",
              "        4.42853521e+05,  6.55966133e+05, -1.06676290e+06, -1.08421821e+06,\n",
              "        2.60631274e+04,  2.17720661e+04, -1.09662586e+06,  4.29308110e+05,\n",
              "        5.97822176e+04, -9.86512515e+04,  2.68296281e+05,  6.80393971e+06,\n",
              "       -7.71217463e+06,  1.16888354e+06,  3.09760920e+03, -7.23934350e+05,\n",
              "        1.25989701e+05, -4.18522313e+06,  6.17554978e+06, -2.33945721e+06,\n",
              "       -1.23446483e+07,  4.29088057e+07, -3.84870409e+07,  1.13464063e+07,\n",
              "       -6.12339158e+03, -5.22885639e+03, -2.65625340e+03, -1.53638641e+03,\n",
              "        5.48268382e+04, -2.46617400e+05,  2.10816466e+03,  8.91995535e+01,\n",
              "       -4.12301473e+03, -5.58043047e+04,  1.11842791e+05, -1.44370182e+03,\n",
              "        4.05941369e+03,  8.73556355e+04, -4.41755274e+03,  4.93844595e+03,\n",
              "       -1.21263508e+05,  9.61032205e+03,  5.12958288e+05, -2.44897217e+06,\n",
              "        1.79705443e+06, -2.44146448e+03, -3.05944917e+03, -5.70901292e+03,\n",
              "       -2.14542579e+05,  2.10409697e+05,  6.96286916e+03, -1.88811008e+03,\n",
              "       -2.56604086e+05, -1.48212348e+04,  3.05974952e+03,  1.52453269e+05,\n",
              "       -1.81458758e+05,  2.93399741e+06, -2.16194453e+06, -2.54908298e+05,\n",
              "       -4.97976202e+02,  3.47193150e+03, -2.03262391e+04,  3.06503227e+04,\n",
              "        2.81977160e+03,  1.13200530e+05, -1.10488351e+05,  3.89586647e+06,\n",
              "       -9.31417515e+05, -1.34595697e+06,  2.33417839e+03,  2.46214076e+04,\n",
              "       -8.23172457e+04, -6.78158153e+06,  1.19515130e+07, -4.89351898e+06,\n",
              "       -3.55049369e+06,  7.04762210e+06, -4.33154984e+06,  9.78735669e+05,\n",
              "        2.85207047e+03, -2.78151432e+03, -5.48603657e+03,  5.93488792e+04,\n",
              "       -2.16069142e+05,  9.29039383e+02, -2.50559078e+03, -5.11184514e+04,\n",
              "       -2.33939194e+05,  6.93339859e+02,  2.13593943e+05, -2.44387864e+05,\n",
              "       -2.25378625e+04,  2.79970999e+06, -1.61425486e+06, -6.19772505e+02,\n",
              "       -9.56384585e+02, -1.89808843e+05,  2.54737109e+05,  2.01398438e+02,\n",
              "        3.30889718e+05, -1.75356720e+05, -1.03642686e+06,  2.64564265e+06,\n",
              "       -9.32731941e+05,  3.56004095e+03, -1.99515036e+05,  2.59761298e+05,\n",
              "       -7.61332173e+06,  1.16984696e+07, -3.64968941e+06,  9.07884956e+06,\n",
              "       -1.50555442e+07,  6.44122695e+06, -3.84479288e+05, -1.41838859e+03,\n",
              "        4.37549129e+03,  8.48349582e+05, -5.21434852e+05, -4.76678164e+03,\n",
              "       -5.05433688e+04,  1.38533058e+05, -4.42495632e+06,  5.48030383e+06,\n",
              "       -1.23710889e+06,  6.73407588e+03,  6.91114865e+05, -2.59825543e+05,\n",
              "       -2.63225431e+05,  5.66782340e+05, -3.03247367e+05,  7.32164732e+06,\n",
              "       -2.14036510e+07,  1.32439401e+07, -1.91135099e+06,  5.76748079e+01,\n",
              "       -3.81062810e+05,  2.97841157e+05, -1.21226245e+06,  6.06412731e+05,\n",
              "       -1.01209859e+05,  1.49670814e+07, -3.63926230e+07,  2.86487587e+07,\n",
              "       -7.81261627e+06, -6.68958026e+06,  1.61825256e+07, -1.26869297e+07,\n",
              "        3.74486611e+06, -2.95993393e+05])"
            ]
          },
          "metadata": {},
          "execution_count": 31
        }
      ]
    },
    {
      "cell_type": "code",
      "source": [
        "y_pred=lin_reg_2.predict(poly_reg.transform(X_test))"
      ],
      "metadata": {
        "id": "vFSZ46ha9J2l"
      },
      "execution_count": null,
      "outputs": []
    },
    {
      "cell_type": "code",
      "source": [
        "lin_reg_2.score(poly_reg.transform(X_test),y_test)"
      ],
      "metadata": {
        "colab": {
          "base_uri": "https://localhost:8080/"
        },
        "id": "Oju9E_Qm9Qhy",
        "outputId": "728b0ef7-72e0-4303-b5bb-8b62bfb11581"
      },
      "execution_count": null,
      "outputs": [
        {
          "output_type": "execute_result",
          "data": {
            "text/plain": [
              "0.9997954586487657"
            ]
          },
          "metadata": {},
          "execution_count": 33
        }
      ]
    },
    {
      "cell_type": "code",
      "source": [],
      "metadata": {
        "id": "uFemKmwX_Uwd"
      },
      "execution_count": null,
      "outputs": []
    }
  ]
}